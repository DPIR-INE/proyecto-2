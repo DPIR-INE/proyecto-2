{
 "cells": [
  {
   "cell_type": "code",
   "execution_count": 9,
   "metadata": {},
   "outputs": [],
   "source": [
    "translate = {\"cane\": \"dog\", \"cavallo\": \"horse\", \"elefante\": \"elephant\", \"farfalla\": \"butterfly\", \"gallina\": \"chicken\", \"gatto\": \"cat\", \"mucca\": \"cow\", \"ragno\": \"spider\", \"pecora\": \"sheep\", \"scoiattolo\": \"squirrel\", \"dog\": \"cane\", \"cavallo\": \"horse\", \"elephant\" : \"elefante\", \"butterfly\": \"farfalla\", \"chicken\": \"gallina\", \"cat\": \"gatto\", \"cow\": \"mucca\", \"spider\": \"ragno\", \"squirrel\": \"scoiattolo\"}"
   ]
  },
  {
   "cell_type": "code",
   "execution_count": 13,
   "metadata": {},
   "outputs": [
    {
     "data": {
      "text/plain": [
       "['araña',\n",
       " 'ardilla',\n",
       " 'caballo',\n",
       " 'elefante',\n",
       " 'gallina',\n",
       " 'gato',\n",
       " 'mariposa',\n",
       " 'oveja',\n",
       " 'perro',\n",
       " 'vaca']"
      ]
     },
     "execution_count": 13,
     "metadata": {},
     "output_type": "execute_result"
    }
   ],
   "source": [
    "import os\n",
    "import shutil\n",
    "\n",
    "dataset = r'C:\\Users\\preciosreferencia_1\\Desktop\\PROYECTO 02\\raw-img'\n",
    "animales = os.listdir(dataset)\n",
    "animales"
   ]
  },
  {
   "cell_type": "code",
   "execution_count": 14,
   "metadata": {},
   "outputs": [],
   "source": [
    "#animales_ = [translate[animal] for animal in animales]\n",
    "#print(animales_)"
   ]
  },
  {
   "cell_type": "code",
   "execution_count": 15,
   "metadata": {},
   "outputs": [],
   "source": [
    "# Recorrer las carpetas y asignar etiquetas a las imágenes\n",
    "for animal in animales:\n",
    "    animal_path = os.path.join(dataset, animal)\n",
    "    if os.path.isdir(animal_path):\n",
    "        # Asignar etiquetas\n",
    "        for filename in os.listdir(animal_path):\n",
    "            img_path = os.path.join(animal_path, filename)\n",
    "            # Mover la imagen a una carpeta etiquetada\n",
    "            new_path = os.path.join(dataset, f\"{animal}_{filename}\")\n",
    "            shutil.move(img_path, new_path)"
   ]
  }
 ],
 "metadata": {
  "kernelspec": {
   "display_name": "Python 3",
   "language": "python",
   "name": "python3"
  },
  "language_info": {
   "codemirror_mode": {
    "name": "ipython",
    "version": 3
   },
   "file_extension": ".py",
   "mimetype": "text/x-python",
   "name": "python",
   "nbconvert_exporter": "python",
   "pygments_lexer": "ipython3",
   "version": "3.11.3"
  }
 },
 "nbformat": 4,
 "nbformat_minor": 2
}
